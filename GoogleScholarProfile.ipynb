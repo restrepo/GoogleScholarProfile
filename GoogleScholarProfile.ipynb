{
 "cells": [
  {
   "cell_type": "code",
   "execution_count": 3,
   "metadata": {},
   "outputs": [
    {
     "data": {
      "text/html": [
       "<div>\n",
       "<style scoped>\n",
       "    .dataframe tbody tr th:only-of-type {\n",
       "        vertical-align: middle;\n",
       "    }\n",
       "\n",
       "    .dataframe tbody tr th {\n",
       "        vertical-align: top;\n",
       "    }\n",
       "\n",
       "    .dataframe thead th {\n",
       "        text-align: right;\n",
       "    }\n",
       "</style>\n",
       "<table border=\"1\" class=\"dataframe\">\n",
       "  <thead>\n",
       "    <tr style=\"text-align: right;\">\n",
       "      <th></th>\n",
       "      <th>title</th>\n",
       "      <th>author</th>\n",
       "      <th>journal</th>\n",
       "      <th>volume</th>\n",
       "      <th>number</th>\n",
       "      <th>pages</th>\n",
       "      <th>year</th>\n",
       "      <th>cite_id</th>\n",
       "      <th>cites</th>\n",
       "    </tr>\n",
       "  </thead>\n",
       "  <tbody>\n",
       "    <tr>\n",
       "      <th>0</th>\n",
       "      <td>The hunt for new physics at the Large Hadron C...</td>\n",
       "      <td>P Nath, B Nelson, H Davoudiasl, B Dutta, D Fel...</td>\n",
       "      <td>Nuclear Physics B-Proceedings Supplements</td>\n",
       "      <td>200</td>\n",
       "      <td></td>\n",
       "      <td>185-417</td>\n",
       "      <td>2010</td>\n",
       "      <td>5836686649283743030</td>\n",
       "      <td>158</td>\n",
       "    </tr>\n",
       "    <tr>\n",
       "      <th>1</th>\n",
       "      <td>Radiative seesaw model: warm dark matter, coll...</td>\n",
       "      <td>DA Sierra, J Kubo, D Suematsu, D Restrepo, O Z...</td>\n",
       "      <td>Physical Review D</td>\n",
       "      <td>79</td>\n",
       "      <td>(1)</td>\n",
       "      <td>013011</td>\n",
       "      <td>2009</td>\n",
       "      <td>3332839883472803663</td>\n",
       "      <td>121</td>\n",
       "    </tr>\n",
       "  </tbody>\n",
       "</table>\n",
       "</div>"
      ],
      "text/plain": [
       "                                               title  \\\n",
       "0  The hunt for new physics at the Large Hadron C...   \n",
       "1  Radiative seesaw model: warm dark matter, coll...   \n",
       "\n",
       "                                              author  \\\n",
       "0  P Nath, B Nelson, H Davoudiasl, B Dutta, D Fel...   \n",
       "1  DA Sierra, J Kubo, D Suematsu, D Restrepo, O Z...   \n",
       "\n",
       "                                     journal volume number    pages  year  \\\n",
       "0  Nuclear Physics B-Proceedings Supplements    200         185-417  2010   \n",
       "1                          Physical Review D     79    (1)   013011  2009   \n",
       "\n",
       "               cite_id cites  \n",
       "0  5836686649283743030   158  \n",
       "1  3332839883472803663   121  "
      ]
     },
     "execution_count": 3,
     "metadata": {},
     "output_type": "execute_result"
    }
   ],
   "source": [
    "import GoogleScholarProfile as gsp\n",
    "import requests\n",
    "import pandas as pd\n",
    "\n",
    "file=requests.get('https://scholar.google.com/citations?user=1sKULCoAAAAJ&hl=en').text\n",
    "l=gsp.GoogleScholarProfile(file,prefix='')\n",
    "\n",
    "pd.DataFrame(l)[:2]"
   ]
  },
  {
   "cell_type": "code",
   "execution_count": null,
   "metadata": {},
   "outputs": [],
   "source": []
  }
 ],
 "metadata": {
  "kernelspec": {
   "display_name": "Python 3",
   "language": "python",
   "name": "python3"
  },
  "language_info": {
   "codemirror_mode": {
    "name": "ipython",
    "version": 3
   },
   "file_extension": ".py",
   "mimetype": "text/x-python",
   "name": "python",
   "nbconvert_exporter": "python",
   "pygments_lexer": "ipython3",
   "version": "3.7.3"
  }
 },
 "nbformat": 4,
 "nbformat_minor": 4
}
